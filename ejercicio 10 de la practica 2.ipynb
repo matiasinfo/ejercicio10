{
 "cells": [
  {
   "cell_type": "markdown",
   "id": "4385fa99",
   "metadata": {},
   "source": [
    "\n",
    "### ejercicio 10            Pereyra Matias\n",
    "\n",
    "## apertura de archivos:\n",
    "### # : \n",
    "    usando el formarto with, vamos a seleccionar el arhivo \"eval1\", \"eval2\", y \"nombres\" \n",
    "    hacemos apertura en modo lectura\n",
    "    usamos el nombre \"puntero\" para hacer referencia al archivo\n",
    "    \n",
    "    leemos el archivo y lo referenciamos con las variable \"notas1\", \"notas2\" y \"nombres\"\n",
    "    "
   ]
  },
  {
   "cell_type": "code",
   "execution_count": 60,
   "id": "cefb59d8",
   "metadata": {},
   "outputs": [],
   "source": [
    "\n",
    "with open('eval1.txt','r') as puntero1:\n",
    "    notas1 = puntero1.read()\n",
    "with open('eval2.txt','r') as puntero2:\n",
    "    notas2 = puntero2.read()\n",
    "with open ('nombres_1.txt',encoding=\"utf8\") as puntero3: \n",
    "    archivo = puntero3.read() \n"
   ]
  },
  {
   "cell_type": "markdown",
   "id": "b004ce21",
   "metadata": {},
   "source": [
    "## manipulacion de datos\n",
    "\n",
    "### #\n",
    "    definimos una funcion que nos permita pasarle un texto y que nos devuelva\n",
    "    una lista de enteros y otra similiar para los nombres\n",
    "    \n"
   ]
  },
  {
   "cell_type": "code",
   "execution_count": 61,
   "id": "639caddd",
   "metadata": {},
   "outputs": [],
   "source": [
    "def extraer_info(info):\n",
    "    lista = info.split(\",\")\n",
    "    nueva = []\n",
    "    for elem in lista:\n",
    "        numero = int(elem.replace(\" \",\"\").replace(\"\\n\",\"\"))\n",
    "        nueva.append(numero)\n",
    "    return nueva"
   ]
  },
  {
   "cell_type": "markdown",
   "id": "078b55b8",
   "metadata": {},
   "source": [
    "### #\n",
    "    usamos el contenido recibido por parametro para generar\n",
    "    una lista la cual iremos iterando,\n",
    "    para poder extrar y manipularlos datos,\n",
    "    transformarlos en enteros o nombres y agregarlos a la lista generada\n"
   ]
  },
  {
   "cell_type": "code",
   "execution_count": 62,
   "id": "0101272a",
   "metadata": {},
   "outputs": [],
   "source": [
    "def extraer_nombres(lis_nombres):\n",
    "    lista = lis_nombres.split(\",\")\n",
    "    nueva = []\n",
    "    for elem in lista:\n",
    "        nombre = elem.replace(\" \",\"\").replace(\"\\n\",\"\")\n",
    "        nueva.append(nombre)\n",
    "    return nueva\n",
    "\n",
    "evaluacion_1 = extraer_info(notas1)\n",
    "evaluacion_2 = extraer_info(notas2)\n",
    "nombres = extraer_nombres(archivo)\n"
   ]
  },
  {
   "cell_type": "markdown",
   "id": "5fcb2fb5",
   "metadata": {},
   "source": [
    "## generamos la estructura de datos para agrupar la informacion\n",
    "    recorriendo la lista de nombres, generamos una nueva lista para cada \"ficha\" de alumno.\n",
    "    cada ficha de alumno contiene 4 datos : el nombre ,\n",
    "    las dos evaluaciones y la suma de las mismas\n",
    "    \n",
    "    armamos una unica lista que contiene la informacion de todos los alumnos y agregamos \n",
    "    el fichero a la lista nueva. \n",
    "    \n",
    "    Sumamos las notas para su posterior uso"
   ]
  },
  {
   "cell_type": "code",
   "execution_count": 63,
   "id": "11e171df",
   "metadata": {},
   "outputs": [],
   "source": [
    "datos = []\n",
    "indice = 0\n",
    "total = 0\n",
    "for elem in nombres:\n",
    "    suma = evaluacion_1[indice] + evaluacion_2[indice]\n",
    "    alumno = [elem,evaluacion_1[indice],evaluacion_2[indice],suma]\n",
    "    total += suma\n",
    "    datos.append(alumno)\n",
    "    indice += 1\n",
    "#datos"
   ]
  },
  {
   "cell_type": "markdown",
   "id": "e9efc30a",
   "metadata": {},
   "source": [
    "### sacamos el promedio de las notas\n",
    "\n",
    "    hacemos una consulta por el len de datos para evitar un error de divicion por cero\n",
    "    usamos una variable suma a la cual le sumamos todas las notas de los alumnos\n",
    "    y sacamos el promedio\n",
    "  \n",
    "### Informe final\n",
    "\n",
    "    recorremos la estructura informando los alumnos\n",
    "    cuyas notas estan por debajo del promedio calculado \n",
    "    y usamos el formato de string\n",
    "   \n",
    "    "
   ]
  },
  {
   "cell_type": "code",
   "execution_count": 64,
   "id": "e9ead150",
   "metadata": {},
   "outputs": [],
   "source": [
    "if len(datos) >0:\n",
    "    promedio = total / len(datos)\n",
    "#print(promedio)"
   ]
  },
  {
   "cell_type": "code",
   "execution_count": 65,
   "id": "d7817ec7",
   "metadata": {},
   "outputs": [
    {
     "name": "stdout",
     "output_type": "stream",
     "text": [
      "'CESAR'     de nota: 78 ,\n",
      "'Diego'     de nota: 33 ,\n",
      "'Dolores'   de nota: 53 ,\n",
      "'DYLAN'     de nota: 74 ,\n",
      "'ELIANA'    de nota: 13 ,\n",
      "'Emanuel'   de nota: 48 ,\n",
      "'GONZALO'   de nota: 76 ,\n",
      "'Gregorio'  de nota: 90 ,\n",
      "'Ignacio'   de nota: 21 ,\n",
      "'Jonathan'  de nota: 62 ,\n",
      "'Jorge'     de nota: 79 ,\n",
      "'JUAN'      de nota: 68 ,\n",
      "'Julian'    de nota: 87 ,\n",
      "'Leonel'    de nota: 55 ,\n",
      "'Nicolás'   de nota: 65 ,\n",
      "'NICOLÁS'   de nota: 22 ,\n",
      "'Priscila'  de nota: 24 ,\n",
      "'Yanina'    de nota: 84 ,\n",
      " estos son los alumnos los cuales sus notas estan por debajo del promedio \n"
     ]
    }
   ],
   "source": [
    "for elem in datos:\n",
    "    if elem[3] < promedio:\n",
    "        print (f'{elem[0]:10}  de nota: {elem[3]} ,')\n",
    "print (\" estos son los alumnos los cuales sus notas estan por debajo del promedio \")"
   ]
  },
  {
   "cell_type": "code",
   "execution_count": null,
   "id": "59e5a17f",
   "metadata": {},
   "outputs": [],
   "source": []
  }
 ],
 "metadata": {
  "kernelspec": {
   "display_name": "Python 3 (ipykernel)",
   "language": "python",
   "name": "python3"
  },
  "language_info": {
   "codemirror_mode": {
    "name": "ipython",
    "version": 3
   },
   "file_extension": ".py",
   "mimetype": "text/x-python",
   "name": "python",
   "nbconvert_exporter": "python",
   "pygments_lexer": "ipython3",
   "version": "3.10.0"
  }
 },
 "nbformat": 4,
 "nbformat_minor": 5
}
